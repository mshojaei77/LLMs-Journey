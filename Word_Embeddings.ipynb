{
  "nbformat": 4,
  "nbformat_minor": 0,
  "metadata": {
    "colab": {
      "provenance": [],
      "authorship_tag": "ABX9TyNhQZl7hQufYry+XHxo7KE8",
      "include_colab_link": true
    },
    "kernelspec": {
      "name": "python3",
      "display_name": "Python 3"
    },
    "language_info": {
      "name": "python"
    }
  },
  "cells": [
    {
      "cell_type": "markdown",
      "metadata": {
        "id": "view-in-github",
        "colab_type": "text"
      },
      "source": [
        "<a href=\"https://colab.research.google.com/github/mshojaei77/LLMs-Journey/blob/main/Word_Embeddings.ipynb\" target=\"_parent\"><img src=\"https://colab.research.google.com/assets/colab-badge.svg\" alt=\"Open In Colab\"/></a>"
      ]
    },
    {
      "cell_type": "markdown",
      "source": [
        "# Understanding Word Embeddings for Text Data"
      ],
      "metadata": {
        "id": "GEMGG4OdKjgf"
      }
    },
    {
      "cell_type": "markdown",
      "source": [
        "This notebook explores the concept of word embeddings, which are essential for processing raw text in deep neural networks and language models. We’ll go through the theory of word embeddings, discuss why they're necessary, and implement a basic Word2Vec model to generate embeddings.\n"
      ],
      "metadata": {
        "id": "0qYLwTqlKnlm"
      }
    },
    {
      "cell_type": "markdown",
      "source": [
        "## 1. Introduction to Word Embeddings\n",
        "\n",
        "In machine learning, especially deep learning, we need to convert text data into a format that models can process. Words are categorical data, and we need a way to represent them as **continuous numerical vectors**. This transformation process is called embedding.\n",
        "\n",
        "An *embedding* is a mapping from discrete objects (like words) to points in a continuous vector space, where the distance between vectors indicates semantic similarity. The purpose is to convert text into a numerical format that neural networks can understand.\n"
      ],
      "metadata": {
        "id": "CjVDNRPOKs-n"
      }
    },
    {
      "cell_type": "markdown",
      "source": [
        "## 2. Why Neural Networks Need Embeddings\n",
        "\n",
        "Deep learning models cannot process raw text. Since text data is categorical, it isn’t compatible with the mathematical operations required in neural networks. By converting text into embeddings, we create **dense vector representations** that retain semantic information about the data.\n",
        "\n",
        "Different types of embeddings:\n",
        "- **Word embeddings**: Represent individual words.\n",
        "- **Sentence embeddings**: Represent whole sentences.\n",
        "- **Paragraph embeddings**: Represent paragraphs or even documents.\n",
        "\n",
        "For our purposes, we’ll focus on word embeddings, particularly Word2Vec, which learns word representations by predicting word context.\n"
      ],
      "metadata": {
        "id": "BdwVbiaJK_VP"
      }
    },
    {
      "cell_type": "code",
      "source": [
        "# Import necessary libraries\n",
        "import numpy as np\n",
        "import pandas as pd\n",
        "import matplotlib.pyplot as plt\n",
        "import seaborn as sns\n",
        "from gensim.models import Word2Vec\n",
        "import nltk\n",
        "from sklearn.manifold import TSNE\n",
        "import torch\n",
        "from torch import nn\n",
        "import transformers\n",
        "from transformers import AutoTokenizer, AutoModel"
      ],
      "metadata": {
        "id": "ClEDHIf4OYXX"
      },
      "execution_count": 7,
      "outputs": []
    },
    {
      "cell_type": "code",
      "source": [
        "# First, expand our training data with more relevant sentences\n",
        "sentences = [\n",
        "    # Original sentences\n",
        "    \"The cat sits on the mat\",\n",
        "    \"The dog runs in the park\",\n",
        "    \"Birds fly in the sky\",\n",
        "    \"Fish swim in the ocean\",\n",
        "    \"Eagles and hawks are birds of prey\",\n",
        "    \"Dolphins and whales swim together\",\n",
        "    \"Berlin is the capital of Germany\",\n",
        "    \"Paris is the capital of France\",\n",
        "    \"London is in England\",\n",
        "\n",
        "    # Adding sentences for analogies\n",
        "    \"The mother cat cares for her kittens\",\n",
        "    \"The mother dog cares for her puppies\",\n",
        "    \"The hen watches over her chicks\",\n",
        "    \"Cats are small and lions are big\",\n",
        "    \"Dogs are small and wolves are big\",\n",
        "    \"Berlin belongs to Germany\",\n",
        "    \"Paris belongs to France\",\n",
        "    \"London belongs to England\",\n",
        "    \"The king rules the kingdom\",\n",
        "    \"The queen leads the nation\",\n",
        "    \"The man went to work\",\n",
        "    \"The woman went to work\",\n",
        "    \"Boys play in the park\",\n",
        "    \"Girls play in the garden\",\n",
        "    \"The puppy grew into a dog\",\n",
        "    \"The kitten grew into a cat\",\n",
        "    \"The chick grew into a hen\"\n",
        "]\n",
        "\n",
        "# Tokenize sentences into words\n",
        "tokenized_sentences = [sentence.lower().split() for sentence in sentences]\n",
        "\n"
      ],
      "metadata": {
        "id": "gvxGb6AdPWnH"
      },
      "execution_count": 22,
      "outputs": []
    },
    {
      "cell_type": "markdown",
      "source": [
        "## 3. Training a Simple Word2Vec Model\n"
      ],
      "metadata": {
        "id": "Cf_sQnxBQ01J"
      }
    },
    {
      "cell_type": "code",
      "source": [
        "# Train Word2Vec model with more epochs\n",
        "w2v_model = Word2Vec(sentences=tokenized_sentences,\n",
        "                     vector_size=100,\n",
        "                     window=5,\n",
        "                     min_count=1,\n",
        "                     workers=4,\n",
        "                     epochs=100)  # More epochs for better training"
      ],
      "metadata": {
        "id": "AszqBOWTPbTG"
      },
      "execution_count": 14,
      "outputs": []
    },
    {
      "cell_type": "markdown",
      "source": [
        "## 4. Visualizing Word Embeddings\n"
      ],
      "metadata": {
        "id": "LAQsiWiqQ3bJ"
      }
    },
    {
      "cell_type": "code",
      "source": [
        "def visualize_embeddings(words):\n",
        "    # Get word vectors and keep track of valid words\n",
        "    vectors = []\n",
        "    valid_words = []\n",
        "\n",
        "    for word in words:\n",
        "        vector = get_word_vector(word)\n",
        "        if vector is not None:\n",
        "            vectors.append(vector)\n",
        "            valid_words.append(word)\n",
        "\n",
        "    # Convert to numpy array\n",
        "    vectors = np.array(vectors)\n",
        "\n",
        "    if len(vectors) == 0:\n",
        "        print(\"No valid word vectors found!\")\n",
        "        return\n",
        "\n",
        "    # Print number of vectors for debugging\n",
        "    print(f\"Number of valid vectors: {len(vectors)}\")\n",
        "\n",
        "    # Use a smaller perplexity value based on sample size\n",
        "    perplexity = min(30, len(vectors) - 1)\n",
        "    print(f\"Using perplexity: {perplexity}\")\n",
        "\n",
        "    # Reduce dimensionality for visualization\n",
        "    tsne = TSNE(n_components=2,\n",
        "                random_state=42,\n",
        "                perplexity=perplexity)\n",
        "    vectors_2d = tsne.fit_transform(vectors)\n",
        "\n",
        "    # Create scatter plot\n",
        "    plt.figure(figsize=(12, 8))\n",
        "    plt.scatter(vectors_2d[:, 0], vectors_2d[:, 1])\n",
        "\n",
        "    # Add word labels\n",
        "    for i, word in enumerate(valid_words):\n",
        "        plt.annotate(word,\n",
        "                    (vectors_2d[i, 0], vectors_2d[i, 1]),\n",
        "                    xytext=(5, 5),\n",
        "                    textcoords='offset points',\n",
        "                    fontsize=10,\n",
        "                    alpha=0.8)\n",
        "\n",
        "    plt.title(\"Word Embeddings Visualization\")\n",
        "    plt.xlabel(\"First dimension\")\n",
        "    plt.ylabel(\"Second dimension\")\n",
        "    plt.grid(True, alpha=0.3)\n",
        "    plt.show()\n",
        "\n",
        "# Print vocabulary before visualization\n",
        "print(\"Vocabulary size:\", len(w2v_model.wv.key_to_index))\n",
        "print(\"Available words:\", sorted(list(w2v_model.wv.key_to_index.keys())))\n",
        "\n",
        "# Visualize specific words\n",
        "words_to_visualize = ['cat', 'dog', 'bird', 'fish', 'eagle', 'whale',\n",
        "                      'berlin', 'paris', 'london', 'germany', 'france', 'england']\n",
        "visualize_embeddings(words_to_visualize)"
      ],
      "metadata": {
        "colab": {
          "base_uri": "https://localhost:8080/",
          "height": 807
        },
        "id": "69xUD1xmPbSO",
        "outputId": "9d2dc6cd-d42a-4fd5-d3a7-6ad2d2f9ba67"
      },
      "execution_count": 15,
      "outputs": [
        {
          "output_type": "stream",
          "name": "stdout",
          "text": [
            "Vocabulary size: 60\n",
            "Available words: ['above', 'across', 'and', 'animals', 'are', 'at', 'bark', 'berlin', 'birds', 'build', 'capital', 'cat', 'cats', 'chase', 'common', 'dog', 'dogs', 'dolphins', 'eagles', 'england', 'europe', 'fish', 'fly', 'france', 'from', 'germany', 'hawks', 'high', 'hunt', 'in', 'is', 'kingdom', 'like', 'london', 'loyal', 'mat', 'mice', 'migrate', 'nests', 'ocean', 'oceans', 'of', 'on', 'paris', 'park', 'part', 'pets', 'prey', 'runs', 'schools', 'sits', 'sky', 'strangers', 'swim', 'the', 'to', 'together', 'trees', 'united', 'whales']\n",
            "Number of valid vectors: 9\n",
            "Using perplexity: 8\n"
          ]
        },
        {
          "output_type": "display_data",
          "data": {
            "text/plain": [
              "<Figure size 1200x800 with 1 Axes>"
            ],
            "image/png": "[encoded data removed]"
          },
          "metadata": {}
        }
      ]
    },
    {
      "cell_type": "markdown",
      "source": [
        "## 5. Using Modern Transformer-based Embeddings\n"
      ],
      "metadata": {
        "id": "HpxZ6mJeQ6Un"
      }
    },
    {
      "cell_type": "code",
      "source": [
        "# Load BERT tokenizer and model\n",
        "tokenizer = AutoTokenizer.from_pretrained('bert-base-uncased')\n",
        "model = AutoModel.from_pretrained('bert-base-uncased')\n",
        "\n",
        "def get_bert_embedding(text):\n",
        "    # Tokenize and convert to tensor\n",
        "    inputs = tokenizer(text, return_tensors=\"pt\", padding=True, truncation=True)\n",
        "\n",
        "    # Get BERT embeddings\n",
        "    with torch.no_grad():\n",
        "        outputs = model(**inputs)\n",
        "\n",
        "    # Get the embeddings from the last hidden state\n",
        "    embeddings = outputs.last_hidden_state\n",
        "\n",
        "    # Return mean of token embeddings (simple pooling strategy)\n",
        "    return embeddings.mean(dim=1).numpy()\n",
        "\n",
        "# Example usage\n",
        "text = \"The cat sits on the mat\"\n",
        "bert_embedding = get_bert_embedding(text)\n",
        "print(f\"BERT embedding shape: {bert_embedding.shape}\")"
      ],
      "metadata": {
        "colab": {
          "base_uri": "https://localhost:8080/"
        },
        "id": "6GH9RTqWQSIB",
        "outputId": "809eaeaa-cc56-4c9e-ed0f-8877fc9278c7"
      },
      "execution_count": 19,
      "outputs": [
        {
          "output_type": "stream",
          "name": "stderr",
          "text": [
            "/usr/local/lib/python3.10/dist-packages/transformers/tokenization_utils_base.py:1601: FutureWarning: `clean_up_tokenization_spaces` was not set. It will be set to `True` by default. This behavior will be depracted in transformers v4.45, and will be then set to `False` by default. For more details check this issue: https://github.com/huggingface/transformers/issues/31884\n",
            "  warnings.warn(\n"
          ]
        },
        {
          "output_type": "stream",
          "name": "stdout",
          "text": [
            "BERT embedding shape: (1, 768)\n"
          ]
        }
      ]
    },
    {
      "cell_type": "markdown",
      "source": [
        "## 6. Comparing Word Similarities\n"
      ],
      "metadata": {
        "id": "v58S2dAUQ9hf"
      }
    },
    {
      "cell_type": "code",
      "source": [
        "def find_similar_words(word, top_n=5):\n",
        "    try:\n",
        "        similar_words = w2v_model.wv.most_similar(word, topn=top_n)\n",
        "        print(f\"\\nWords most similar to '{word}':\")\n",
        "        for w, score in similar_words:\n",
        "            print(f\"{w}: {score:.4f}\")\n",
        "    except KeyError:\n",
        "        print(f\"Word '{word}' not in vocabulary\")\n",
        "\n",
        "# Example usage\n",
        "find_similar_words('cat')\n",
        "find_similar_words('berlin')"
      ],
      "metadata": {
        "colab": {
          "base_uri": "https://localhost:8080/"
        },
        "id": "64a4teqdQas-",
        "outputId": "ff539f25-bbe1-47b7-cd9b-2217ec5b46ff"
      },
      "execution_count": 17,
      "outputs": [
        {
          "output_type": "stream",
          "name": "stdout",
          "text": [
            "\n",
            "Words most similar to 'cat':\n",
            "hunt: 0.2804\n",
            "england: 0.2181\n",
            "in: 0.2179\n",
            "eagles: 0.2026\n",
            "like: 0.2013\n",
            "\n",
            "Words most similar to 'berlin':\n",
            "france: 0.2688\n",
            "common: 0.1945\n",
            "the: 0.1605\n",
            "schools: 0.1573\n",
            "london: 0.1556\n"
          ]
        }
      ]
    },
    {
      "cell_type": "markdown",
      "source": [
        "## 7. Custom Embedding Layer Implementation\n"
      ],
      "metadata": {
        "id": "ObJDHrpERAIu"
      }
    },
    {
      "cell_type": "code",
      "source": [
        "class SimpleEmbedding(nn.Module):\n",
        "    def __init__(self, vocab_size, embedding_dim):\n",
        "        super(SimpleEmbedding, self).__init__()\n",
        "        self.embedding = nn.Embedding(vocab_size, embedding_dim)\n",
        "\n",
        "    def forward(self, x):\n",
        "        return self.embedding(x)\n",
        "\n",
        "# Example usage\n",
        "vocab_size = 1000\n",
        "embedding_dim = 50\n",
        "embedding_layer = SimpleEmbedding(vocab_size, embedding_dim)\n",
        "\n",
        "# Sample input (batch of token indices)\n",
        "sample_tokens = torch.LongTensor([[1, 2, 3], [4, 5, 6]])\n",
        "embedded_tokens = embedding_layer(sample_tokens)\n",
        "print(f\"Embedded tokens shape: {embedded_tokens.shape}\")"
      ],
      "metadata": {
        "colab": {
          "base_uri": "https://localhost:8080/"
        },
        "id": "Rt88EZxoQj3O",
        "outputId": "9bc9ed18-c985-4870-bc5d-d28c44bb5be7"
      },
      "execution_count": 20,
      "outputs": [
        {
          "output_type": "stream",
          "name": "stdout",
          "text": [
            "Embedded tokens shape: torch.Size([2, 3, 50])\n"
          ]
        }
      ]
    },
    {
      "cell_type": "markdown",
      "source": [
        "## 8. Exploring Word Analogies\n",
        "Shows how word embeddings capture semantic relationships between words, similar to solving analogies.\n"
      ],
      "metadata": {
        "id": "a9w7FNcNRSP_"
      }
    },
    {
      "cell_type": "code",
      "source": [
        "def word_analogy(word1, word2, word3):\n",
        "    \"\"\"\n",
        "    Performs word analogy task: word1 is to word2 as word3 is to ?\n",
        "    Example: man is to king as woman is to queen\n",
        "    \"\"\"\n",
        "    try:\n",
        "        result = w2v_model.wv.most_similar(\n",
        "            positive=[word2, word3],\n",
        "            negative=[word1],\n",
        "            topn=3\n",
        "        )\n",
        "        print(f\"\\n{word1} is to {word2} as {word3} is to:\")\n",
        "        for word, score in result:\n",
        "            print(f\"{word}: {score:.4f}\")\n",
        "    except KeyError as e:\n",
        "        print(f\"Error: One of the words not in vocabulary - {e}\")\n",
        "\n",
        "# Example analogies\n",
        "analogies = [\n",
        "    ('germany', 'berlin', 'france'),\n",
        "    ('cat', 'kitten', 'dog'),\n",
        "    ('bird', 'fly', 'fish')\n",
        "]\n",
        "\n",
        "for w1, w2, w3 in analogies:\n",
        "    word_analogy(w1, w2, w3)"
      ],
      "metadata": {
        "colab": {
          "base_uri": "https://localhost:8080/"
        },
        "id": "VkjEwxW-RPSx",
        "outputId": "a9c12124-7869-4842-e70a-0e3c45cad9d4"
      },
      "execution_count": 23,
      "outputs": [
        {
          "output_type": "stream",
          "name": "stdout",
          "text": [
            "\n",
            "germany is to berlin as france is to:\n",
            "the: 0.2247\n",
            "schools: 0.2153\n",
            "above: 0.1890\n",
            "Error: One of the words not in vocabulary - \"Key 'kitten' not present in vocabulary\"\n",
            "Error: One of the words not in vocabulary - \"Key 'bird' not present in vocabulary\"\n"
          ]
        }
      ]
    }
  ]
}